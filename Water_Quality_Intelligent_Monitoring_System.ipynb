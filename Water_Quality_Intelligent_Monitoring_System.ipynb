{
  "nbformat": 4,
  "nbformat_minor": 0,
  "metadata": {
    "colab": {
      "private_outputs": true,
      "provenance": []
    },
    "kernelspec": {
      "name": "python3",
      "display_name": "Python 3"
    },
    "language_info": {
      "name": "python"
    }
  },
  "cells": [
    {
      "cell_type": "code",
      "execution_count": null,
      "metadata": {
        "id": "HFqpmjC5A5-y"
      },
      "outputs": [],
      "source": [
        "from google.colab import drive\n",
        "drive.mount('/content/drive')"
      ]
    },
    {
      "cell_type": "markdown",
      "source": [
        "**IMPORTING LIBRARIES**"
      ],
      "metadata": {
        "id": "Hxc45yRFBgRP"
      }
    },
    {
      "cell_type": "code",
      "source": [
        "import matplotlib.pyplot as plt\n",
        "import numpy as np\n",
        "import pandas as pd\n",
        "import seaborn as sns\n",
        "from sklearn.preprocessing import LabelEncoder\n",
        "from sklearn.preprocessing import MinMaxScaler\n",
        "from sklearn.model_selection import cross_val_score\n",
        "import tensorflow as tf\n",
        "from imblearn.over_sampling import SMOTE"
      ],
      "metadata": {
        "id": "gwNplK15BL_E"
      },
      "execution_count": null,
      "outputs": []
    },
    {
      "cell_type": "code",
      "source": [
        "df = pd.read_csv('/content/drive/My Drive/WATERQUALITY.csv')"
      ],
      "metadata": {
        "id": "krLK_VwQBopx"
      },
      "execution_count": null,
      "outputs": []
    },
    {
      "cell_type": "markdown",
      "source": [
        "**PRE-PROCESSING**"
      ],
      "metadata": {
        "id": "MllnVrNlOOqg"
      }
    },
    {
      "cell_type": "code",
      "source": [
        "df.info()"
      ],
      "metadata": {
        "id": "nNQaIJODOCYq"
      },
      "execution_count": null,
      "outputs": []
    },
    {
      "cell_type": "code",
      "source": [
        "df = df.replace({'#NUM!':np.nan})\n",
        "df=df.dropna()\n",
        "df.isnull().sum()"
      ],
      "metadata": {
        "id": "Hp1_xDPGOCUb"
      },
      "execution_count": null,
      "outputs": []
    },
    {
      "cell_type": "code",
      "source": [
        "df['is_safe'].value_counts()"
      ],
      "metadata": {
        "id": "u6DceqV-OCQQ"
      },
      "execution_count": null,
      "outputs": []
    },
    {
      "cell_type": "code",
      "source": [
        "df.info()"
      ],
      "metadata": {
        "id": "Sl47-2StOCMB"
      },
      "execution_count": null,
      "outputs": []
    },
    {
      "cell_type": "code",
      "source": [
        "df['ammonia']=df['ammonia'].astype(float)\n",
        "df['is_safe']=df['is_safe'].astype(int)"
      ],
      "metadata": {
        "id": "v7mB111uPZnD"
      },
      "execution_count": null,
      "outputs": []
    },
    {
      "cell_type": "code",
      "source": [
        "df.info()"
      ],
      "metadata": {
        "id": "7fHviIiwPk8-"
      },
      "execution_count": null,
      "outputs": []
    },
    {
      "cell_type": "markdown",
      "source": [
        "**Creating two data sets (independent variables),(dependent variable)**"
      ],
      "metadata": {
        "id": "PskO-j_FP92L"
      }
    },
    {
      "cell_type": "code",
      "source": [
        "X = df.drop('is_safe', axis='columns')\n",
        "y = df['is_safe']"
      ],
      "metadata": {
        "id": "K48kFI-WPn4A"
      },
      "execution_count": null,
      "outputs": []
    },
    {
      "cell_type": "markdown",
      "source": [
        "**Using the SMOTE library to oversample the data by randomly creating data**"
      ],
      "metadata": {
        "id": "R3PkHBlxRTZR"
      }
    },
    {
      "cell_type": "code",
      "source": [
        "sm = SMOTE(random_state=27)\n",
        "X,y = sm.fit_resample(X,y)"
      ],
      "metadata": {
        "id": "ZmhuL5TjQ9kG"
      },
      "execution_count": null,
      "outputs": []
    },
    {
      "cell_type": "code",
      "source": [
        "from sklearn.model_selection import train_test_split\n",
        "X_train, X_test, y_train, y_test = train_test_split(X, y, test_size = 0.2, random_state = 0)"
      ],
      "metadata": {
        "id": "_eu9LO7KRfHL"
      },
      "execution_count": null,
      "outputs": []
    },
    {
      "cell_type": "code",
      "source": [
        "from sklearn.preprocessing import StandardScaler\n",
        "sc = StandardScaler()\n",
        "X_train = sc.fit_transform(X_train)\n",
        "X_test = sc.transform(X_test)"
      ],
      "metadata": {
        "id": "MNTbYr8bR2jv"
      },
      "execution_count": null,
      "outputs": []
    },
    {
      "cell_type": "markdown",
      "source": [
        "# Building the ANN\n",
        "**Initializing the ANN**"
      ],
      "metadata": {
        "id": "u5AuAd0DSTfD"
      }
    },
    {
      "cell_type": "code",
      "source": [
        "ann = tf.keras.models.Sequential()"
      ],
      "metadata": {
        "id": "ywq31m2lSDvR"
      },
      "execution_count": null,
      "outputs": []
    },
    {
      "cell_type": "markdown",
      "source": [
        "**Adding the input layer and the first hidden layer**"
      ],
      "metadata": {
        "id": "NiLPmyZfSita"
      }
    },
    {
      "cell_type": "code",
      "source": [
        "ann.add(tf.keras.layers.Dense(units=6, activation='relu'))"
      ],
      "metadata": {
        "id": "j2O-S-lVSaie"
      },
      "execution_count": null,
      "outputs": []
    },
    {
      "cell_type": "markdown",
      "source": [
        "**Adding the second hidden layer**"
      ],
      "metadata": {
        "id": "4pKk6iCRSqCj"
      }
    },
    {
      "cell_type": "code",
      "source": [
        "ann.add(tf.keras.layers.Dense(units=6, activation='relu'))"
      ],
      "metadata": {
        "id": "QSC1A0D6SrcK"
      },
      "execution_count": null,
      "outputs": []
    },
    {
      "cell_type": "markdown",
      "source": [
        "**Adding the output layer**"
      ],
      "metadata": {
        "id": "tWmrix-pSsZ9"
      }
    },
    {
      "cell_type": "code",
      "source": [
        "ann.add(tf.keras.layers.Dense(units=1, activation='sigmoid'))"
      ],
      "metadata": {
        "id": "sIM500o8Svcb"
      },
      "execution_count": null,
      "outputs": []
    },
    {
      "cell_type": "markdown",
      "source": [
        "**Training the ANN**(optimizer: 'Adam' .  loss: 'binary_crossentropy'  .  metrics: 'accuracy')"
      ],
      "metadata": {
        "id": "mhbAxoTwS0p_"
      }
    },
    {
      "cell_type": "code",
      "source": [
        "ann.compile(optimizer = 'adam', loss = 'binary_crossentropy', metrics = ['accuracy'])"
      ],
      "metadata": {
        "id": "o2GAm7g3S2AV"
      },
      "execution_count": null,
      "outputs": []
    },
    {
      "cell_type": "code",
      "source": [
        "ann.fit(X_train, y_train, batch_size = 32, epochs = 100)"
      ],
      "metadata": {
        "id": "b8G1HkViTtGE"
      },
      "execution_count": null,
      "outputs": []
    },
    {
      "cell_type": "code",
      "source": [
        "print(ann.predict(sc.transform([[1.36, 11.33, 0.04, 2.96, 0.001, 7.23, 0.03, 1.66, 1.08, 0.71, 0.71, 0.016,1.41,1.29,0.004,9.12,1.72,0.02,0.45,0.05]])) > 0.5)"
      ],
      "metadata": {
        "id": "qYGaZozSTxOm"
      },
      "execution_count": null,
      "outputs": []
    },
    {
      "cell_type": "markdown",
      "source": [
        "**Predicting the Test set results**"
      ],
      "metadata": {
        "id": "NZPrrXhSUXWz"
      }
    },
    {
      "cell_type": "code",
      "source": [
        "y_pred = ann.predict(X_test)\n",
        "y_pred = (y_pred > 0.5)"
      ],
      "metadata": {
        "id": "jw3IyOp6UVxu"
      },
      "execution_count": null,
      "outputs": []
    },
    {
      "cell_type": "markdown",
      "source": [
        "**Making the Confusion Matrix**"
      ],
      "metadata": {
        "id": "XQbQi6TiUvEG"
      }
    },
    {
      "cell_type": "code",
      "source": [
        "from sklearn.metrics import accuracy_score, recall_score,precision_score, f1_score, classification_report\n",
        "print(classification_report(y_test, y_pred))"
      ],
      "metadata": {
        "id": "vPB_uNu2UoIv"
      },
      "execution_count": null,
      "outputs": []
    },
    {
      "cell_type": "code",
      "source": [
        "from sklearn.metrics import confusion_matrix, accuracy_score\n",
        "cm = confusion_matrix(y_test, y_pred)\n",
        "print(cm)\n",
        "accuracy_score(y_test, y_pred)"
      ],
      "metadata": {
        "id": "Cwknp7ZmU2d7"
      },
      "execution_count": null,
      "outputs": []
    },
    {
      "cell_type": "code",
      "source": [
        "cm"
      ],
      "metadata": {
        "id": "L0PI4NdhdXRe"
      },
      "execution_count": null,
      "outputs": []
    },
    {
      "cell_type": "code",
      "source": [
        "sns.heatmap(cm,annot=True, fmt='.0f')"
      ],
      "metadata": {
        "id": "riuTJ0dTVEwn"
      },
      "execution_count": null,
      "outputs": []
    },
    {
      "cell_type": "markdown",
      "source": [
        "# Classification with CNN\n",
        "**IMPORTING LIBRARIES**"
      ],
      "metadata": {
        "id": "Y2NtuwiZVonm"
      }
    },
    {
      "cell_type": "code",
      "source": [
        "from keras.models import Sequential\n",
        "from keras.layers import Dense, Conv1D, Flatten, MaxPooling1D\n",
        "from sklearn.model_selection import train_test_split\n",
        "from sklearn.metrics import confusion_matrix\n",
        "from numpy import unique\n",
        "\n",
        "from sklearn.model_selection import GridSearchCV\n",
        "\n",
        "from keras.layers import  Activation, Embedding,  LeakyReLU, BatchNormalization, Dropout\n",
        "from keras.activations import relu, sigmoid"
      ],
      "metadata": {
        "id": "jX6VuZE3VJ1K"
      },
      "execution_count": null,
      "outputs": []
    },
    {
      "cell_type": "code",
      "source": [
        "x = df.drop('is_safe', axis='columns')\n",
        "y = df['is_safe']"
      ],
      "metadata": {
        "id": "KSatXTj1V_Gv"
      },
      "execution_count": null,
      "outputs": []
    },
    {
      "cell_type": "markdown",
      "source": [
        "**Using the SMOTE library to oversample the data by randomly creating data**"
      ],
      "metadata": {
        "id": "B9aGyOAEWnZX"
      }
    },
    {
      "cell_type": "code",
      "source": [
        "sm = SMOTE(random_state=27)\n",
        "x,y = sm.fit_resample(x,y)"
      ],
      "metadata": {
        "id": "bQnmLd0sWhf1"
      },
      "execution_count": null,
      "outputs": []
    },
    {
      "cell_type": "code",
      "source": [
        "train_x, test_x, train_y, test_y = train_test_split(x, y, test_size=0.30)"
      ],
      "metadata": {
        "id": "YV8-xwmgWu3n"
      },
      "execution_count": null,
      "outputs": []
    },
    {
      "cell_type": "code",
      "source": [
        "from sklearn.preprocessing import StandardScaler\n",
        "sc = StandardScaler()\n",
        "train_x = sc.fit_transform(train_x)\n",
        "test_x = sc.transform(test_x)"
      ],
      "metadata": {
        "id": "x0uX_TklWyMi"
      },
      "execution_count": null,
      "outputs": []
    },
    {
      "cell_type": "markdown",
      "source": [
        "**Build the model**"
      ],
      "metadata": {
        "id": "tPQoX1V9W-s7"
      }
    },
    {
      "cell_type": "code",
      "source": [
        "model1 = Sequential()\n",
        "model1.add(Conv1D(64,2, activation=\"relu\", input_shape=(20,1)))\n",
        "model1.add(MaxPooling1D())\n",
        "model1.add(Flatten())\n",
        "model1.add(Dense(1, kernel_initializer= 'glorot_normal', activation = 'sigmoid'))\n",
        "model1.compile(loss = 'binary_crossentropy',\n",
        "     optimizer = \"adam\",\n",
        "              metrics = ['accuracy']) #Adds a fully connected layer with a single output node and sigmoid activation function\n",
        "model1.summary()"
      ],
      "metadata": {
        "id": "cbzaiVByXC02"
      },
      "execution_count": null,
      "outputs": []
    },
    {
      "cell_type": "code",
      "source": [
        "model1.fit(train_x, train_y, batch_size=16,epochs=100 , verbose=0)"
      ],
      "metadata": {
        "id": "iANgec5xXOFw"
      },
      "execution_count": null,
      "outputs": []
    },
    {
      "cell_type": "markdown",
      "source": [
        "**Evaluates the performance of the trained CNN model on a test set of data**"
      ],
      "metadata": {
        "id": "3nRsR7GLXnlO"
      }
    },
    {
      "cell_type": "code",
      "source": [
        "acc = model1.evaluate(test_x, test_y)\n",
        "print(\"Loss:\", acc[0], \" Accuracy:\", acc[1])"
      ],
      "metadata": {
        "id": "i_tcyGp0Xdnp"
      },
      "execution_count": null,
      "outputs": []
    },
    {
      "cell_type": "code",
      "source": [
        "print(model1.predict(sc.transform([[1.36, 11.33, 0.04, 2.96, 0.001, 7.23, 0.03, 1.66, 1.08, 0.71, 0.71, 0.016,1.41,1.29,0.004,9.12,1.72,0.02,0.45,0.05]])) > 0.5)"
      ],
      "metadata": {
        "id": "-TEcH56iXsmN"
      },
      "execution_count": null,
      "outputs": []
    },
    {
      "cell_type": "markdown",
      "source": [
        "**Predicting the Test set results**"
      ],
      "metadata": {
        "id": "W_4acpQkX5Cc"
      }
    },
    {
      "cell_type": "code",
      "source": [
        "yp = model1.predict(test_x)\n",
        "yp = (yp > 0.5)"
      ],
      "metadata": {
        "id": "v7Rb88vyX6qR"
      },
      "execution_count": null,
      "outputs": []
    },
    {
      "cell_type": "markdown",
      "source": [
        "**Making the Confusion Matrix**"
      ],
      "metadata": {
        "id": "fbE_AgHGYBa4"
      }
    },
    {
      "cell_type": "code",
      "source": [
        "print(classification_report(test_y, yp))"
      ],
      "metadata": {
        "id": "ueHlTkLZYCv8"
      },
      "execution_count": null,
      "outputs": []
    },
    {
      "cell_type": "code",
      "source": [
        "from sklearn.metrics import confusion_matrix, accuracy_score\n",
        "cm1 = confusion_matrix(test_y, yp)\n",
        "print(cm1)\n",
        "accuracy_score(test_y, yp)"
      ],
      "metadata": {
        "id": "SYyDAv8cYJYW"
      },
      "execution_count": null,
      "outputs": []
    },
    {
      "cell_type": "code",
      "source": [
        "sns.heatmap(cm1,annot=True)"
      ],
      "metadata": {
        "id": "kxT3tCG0YJSz"
      },
      "execution_count": null,
      "outputs": []
    },
    {
      "cell_type": "markdown",
      "source": [
        "#**CNN MODEL 2**"
      ],
      "metadata": {
        "id": "-Oy_Q5rlYTT6"
      }
    },
    {
      "cell_type": "code",
      "source": [
        "x = df.drop('is_safe', axis='columns')\n",
        "y = df['is_safe']"
      ],
      "metadata": {
        "id": "rLVNwzfoYteB"
      },
      "execution_count": null,
      "outputs": []
    },
    {
      "cell_type": "code",
      "source": [
        "#Using the SMOTE library to oversample the data by randomly creating data\n",
        "sm = SMOTE(random_state=27)\n",
        "x,y = sm.fit_resample(x,y)"
      ],
      "metadata": {
        "id": "hvzD4kKqYJNO"
      },
      "execution_count": null,
      "outputs": []
    },
    {
      "cell_type": "code",
      "source": [
        "train_x, test_x, train_y, test_y = train_test_split(x, y, test_size=0.30)"
      ],
      "metadata": {
        "id": "4ilIexalYqJZ"
      },
      "execution_count": null,
      "outputs": []
    },
    {
      "cell_type": "code",
      "source": [
        "from sklearn.preprocessing import StandardScaler\n",
        "sc = StandardScaler()\n",
        "train_x = sc.fit_transform(train_x)\n",
        "test_x = sc.transform(test_x)"
      ],
      "metadata": {
        "id": "JYBH95eGY37i"
      },
      "execution_count": null,
      "outputs": []
    },
    {
      "cell_type": "code",
      "source": [
        "model2 = Sequential()\n",
        "model2.add(Conv1D(32,2, activation=\"relu\", input_shape=(20,1)))\n",
        "model2.add(MaxPooling1D())\n",
        "model2.add(Conv1D(64,2, activation=\"relu\", input_shape=(20,1)))\n",
        "model2.add(MaxPooling1D())\n",
        "model2.add(Flatten())\n",
        "model2.add(Dense(1, kernel_initializer= 'glorot_uniform', activation = 'sigmoid')) # Adds a fully connected layer with a single output node and sigmoid activation function\n",
        "model2.compile(loss = 'binary_crossentropy',\n",
        "     optimizer = \"adam\",\n",
        "              metrics = ['accuracy']) # Compiles the model with binary cross-entropy loss function, Adam optimizer, and accuracy metric\n",
        "model2.summary()"
      ],
      "metadata": {
        "id": "lqF8tmuCY_8N"
      },
      "execution_count": null,
      "outputs": []
    },
    {
      "cell_type": "code",
      "source": [
        "model2.fit(train_x, train_y, batch_size=16,epochs=100 , verbose=0)"
      ],
      "metadata": {
        "id": "Z28p1BieZFzK"
      },
      "execution_count": null,
      "outputs": []
    },
    {
      "cell_type": "code",
      "source": [
        "acc = model2.evaluate(test_x, test_y)\n",
        "print(\"Loss:\", acc[0], \" Accuracy:\", acc[1])"
      ],
      "metadata": {
        "id": "BmwI5US0ZOAT"
      },
      "execution_count": null,
      "outputs": []
    },
    {
      "cell_type": "code",
      "source": [
        "print(model2.predict(sc.transform([[1.36, 11.33, 0.04, 2.96, 0.001, 7.23, 0.03, 1.66, 1.08, 0.71, 0.71, 0.016,1.41,1.29,0.004,9.12,1.72,0.02,0.45,0.05]])) > 0.5)"
      ],
      "metadata": {
        "id": "TtX6-QLRZRa0"
      },
      "execution_count": null,
      "outputs": []
    },
    {
      "cell_type": "markdown",
      "source": [
        "**Predicting the Test set results**"
      ],
      "metadata": {
        "id": "y--1TzMaZYMw"
      }
    },
    {
      "cell_type": "code",
      "source": [
        "yp = model2.predict(test_x)\n",
        "yp = (yp > 0.5)"
      ],
      "metadata": {
        "id": "2eZLjFGmZZTF"
      },
      "execution_count": null,
      "outputs": []
    },
    {
      "cell_type": "markdown",
      "source": [
        "**Making the Confusion Matrix**"
      ],
      "metadata": {
        "id": "j5gvLwelZi2F"
      }
    },
    {
      "cell_type": "code",
      "source": [
        "print(classification_report(test_y, yp))"
      ],
      "metadata": {
        "id": "FLIEINxbZhW6"
      },
      "execution_count": null,
      "outputs": []
    },
    {
      "cell_type": "code",
      "source": [
        "from sklearn.metrics import confusion_matrix, accuracy_score\n",
        "cm2 = confusion_matrix(test_y, yp)\n",
        "print(cm2)\n",
        "accuracy_score(test_y, yp)"
      ],
      "metadata": {
        "id": "8_0F4PDYZo7h"
      },
      "execution_count": null,
      "outputs": []
    },
    {
      "cell_type": "code",
      "source": [
        "sns.heatmap(cm2,annot=True)"
      ],
      "metadata": {
        "id": "PzHYYsjEZo1i"
      },
      "execution_count": null,
      "outputs": []
    },
    {
      "cell_type": "code",
      "source": [],
      "metadata": {
        "id": "89zFkfSKLmNN"
      },
      "execution_count": null,
      "outputs": []
    },
    {
      "cell_type": "code",
      "source": [],
      "metadata": {
        "id": "XxwQaqqrLmGO"
      },
      "execution_count": null,
      "outputs": []
    },
    {
      "cell_type": "code",
      "source": [],
      "metadata": {
        "id": "ZeHDzGRPLl9m"
      },
      "execution_count": null,
      "outputs": []
    }
  ]
}